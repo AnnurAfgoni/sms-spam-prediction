{
 "cells": [
  {
   "cell_type": "code",
   "execution_count": 73,
   "metadata": {},
   "outputs": [],
   "source": [
    "# library for: dataframe manipulation\n",
    "import numpy as np\n",
    "import pandas as pd\n",
    "\n",
    "# library for: text preprocessing\n",
    "import re\n",
    "from nltk.corpus import stopwords\n",
    "from nltk.tokenize import word_tokenize\n",
    "\n",
    "# library for visualization\n",
    "import matplotlib.pyplot as plt\n",
    "\n",
    "# library for: modelling\n",
    "from sklearn.model_selection import train_test_split\n",
    "\n",
    "import tensorflow as tf\n",
    "from tensorflow.keras.preprocessing.text import Tokenizer\n",
    "from tensorflow.keras.preprocessing.sequence import pad_sequences\n",
    "\n",
    "# library for: metrics\n",
    "from sklearn.metrics import accuracy_score\n",
    "\n",
    "# library for: save model\n",
    "import pickle"
   ]
  },
  {
   "cell_type": "code",
   "execution_count": 74,
   "metadata": {},
   "outputs": [
    {
     "data": {
      "text/html": [
       "<div>\n",
       "<style scoped>\n",
       "    .dataframe tbody tr th:only-of-type {\n",
       "        vertical-align: middle;\n",
       "    }\n",
       "\n",
       "    .dataframe tbody tr th {\n",
       "        vertical-align: top;\n",
       "    }\n",
       "\n",
       "    .dataframe thead th {\n",
       "        text-align: right;\n",
       "    }\n",
       "</style>\n",
       "<table border=\"1\" class=\"dataframe\">\n",
       "  <thead>\n",
       "    <tr style=\"text-align: right;\">\n",
       "      <th></th>\n",
       "      <th>label</th>\n",
       "      <th>message</th>\n",
       "    </tr>\n",
       "  </thead>\n",
       "  <tbody>\n",
       "    <tr>\n",
       "      <th>0</th>\n",
       "      <td>ham</td>\n",
       "      <td>Go until jurong point, crazy.. Available only ...</td>\n",
       "    </tr>\n",
       "    <tr>\n",
       "      <th>1</th>\n",
       "      <td>ham</td>\n",
       "      <td>Ok lar... Joking wif u oni...</td>\n",
       "    </tr>\n",
       "    <tr>\n",
       "      <th>2</th>\n",
       "      <td>spam</td>\n",
       "      <td>Free entry in 2 a wkly comp to win FA Cup fina...</td>\n",
       "    </tr>\n",
       "    <tr>\n",
       "      <th>3</th>\n",
       "      <td>ham</td>\n",
       "      <td>U dun say so early hor... U c already then say...</td>\n",
       "    </tr>\n",
       "    <tr>\n",
       "      <th>4</th>\n",
       "      <td>ham</td>\n",
       "      <td>Nah I don't think he goes to usf, he lives aro...</td>\n",
       "    </tr>\n",
       "    <tr>\n",
       "      <th>...</th>\n",
       "      <td>...</td>\n",
       "      <td>...</td>\n",
       "    </tr>\n",
       "    <tr>\n",
       "      <th>5567</th>\n",
       "      <td>spam</td>\n",
       "      <td>This is the 2nd time we have tried 2 contact u...</td>\n",
       "    </tr>\n",
       "    <tr>\n",
       "      <th>5568</th>\n",
       "      <td>ham</td>\n",
       "      <td>Will ü b going to esplanade fr home?</td>\n",
       "    </tr>\n",
       "    <tr>\n",
       "      <th>5569</th>\n",
       "      <td>ham</td>\n",
       "      <td>Pity, * was in mood for that. So...any other s...</td>\n",
       "    </tr>\n",
       "    <tr>\n",
       "      <th>5570</th>\n",
       "      <td>ham</td>\n",
       "      <td>The guy did some bitching but I acted like i'd...</td>\n",
       "    </tr>\n",
       "    <tr>\n",
       "      <th>5571</th>\n",
       "      <td>ham</td>\n",
       "      <td>Rofl. Its true to its name</td>\n",
       "    </tr>\n",
       "  </tbody>\n",
       "</table>\n",
       "<p>5572 rows × 2 columns</p>\n",
       "</div>"
      ],
      "text/plain": [
       "     label                                            message\n",
       "0      ham  Go until jurong point, crazy.. Available only ...\n",
       "1      ham                      Ok lar... Joking wif u oni...\n",
       "2     spam  Free entry in 2 a wkly comp to win FA Cup fina...\n",
       "3      ham  U dun say so early hor... U c already then say...\n",
       "4      ham  Nah I don't think he goes to usf, he lives aro...\n",
       "...    ...                                                ...\n",
       "5567  spam  This is the 2nd time we have tried 2 contact u...\n",
       "5568   ham               Will ü b going to esplanade fr home?\n",
       "5569   ham  Pity, * was in mood for that. So...any other s...\n",
       "5570   ham  The guy did some bitching but I acted like i'd...\n",
       "5571   ham                         Rofl. Its true to its name\n",
       "\n",
       "[5572 rows x 2 columns]"
      ]
     },
     "execution_count": 74,
     "metadata": {},
     "output_type": "execute_result"
    }
   ],
   "source": [
    "# Load Data\n",
    "df = pd.read_csv(\"../datasets/sms_spam_collection.csv\")\n",
    "df"
   ]
  },
  {
   "cell_type": "code",
   "execution_count": 75,
   "metadata": {},
   "outputs": [
    {
     "data": {
      "text/plain": [
       "label\n",
       "ham     0.865937\n",
       "spam    0.134063\n",
       "Name: proportion, dtype: float64"
      ]
     },
     "execution_count": 75,
     "metadata": {},
     "output_type": "execute_result"
    }
   ],
   "source": [
    "# cek distribusi label\n",
    "df[\"label\"].value_counts(normalize=True)"
   ]
  },
  {
   "cell_type": "code",
   "execution_count": 76,
   "metadata": {},
   "outputs": [],
   "source": [
    "# convert label to numeric\n",
    "df[\"label\"] = np.where(df[\"label\"]==\"spam\", 1, 0)"
   ]
  },
  {
   "cell_type": "code",
   "execution_count": 77,
   "metadata": {},
   "outputs": [
    {
     "data": {
      "text/plain": [
       "label\n",
       "0    0.865937\n",
       "1    0.134063\n",
       "Name: proportion, dtype: float64"
      ]
     },
     "execution_count": 77,
     "metadata": {},
     "output_type": "execute_result"
    }
   ],
   "source": [
    "# cek distribusi label\n",
    "df[\"label\"].value_counts(normalize=True)"
   ]
  },
  {
   "cell_type": "markdown",
   "metadata": {},
   "source": [
    "# text preprocessing"
   ]
  },
  {
   "cell_type": "code",
   "execution_count": 78,
   "metadata": {},
   "outputs": [
    {
     "data": {
      "text/plain": [
       "0       go until jurong point, crazy.. available only ...\n",
       "1                           ok lar... joking wif u oni...\n",
       "2       free entry in 2 a wkly comp to win fa cup fina...\n",
       "3       u dun say so early hor... u c already then say...\n",
       "4       nah i don't think he goes to usf, he lives aro...\n",
       "                              ...                        \n",
       "5567    this is the 2nd time we have tried 2 contact u...\n",
       "5568                 will ü b going to esplanade fr home?\n",
       "5569    pity, * was in mood for that. so...any other s...\n",
       "5570    the guy did some bitching but i acted like i'd...\n",
       "5571                           rofl. its true to its name\n",
       "Name: message, Length: 5572, dtype: object"
      ]
     },
     "execution_count": 78,
     "metadata": {},
     "output_type": "execute_result"
    }
   ],
   "source": [
    "# text preprocessing : lowercase\n",
    "\n",
    "df[\"message\"] = df[\"message\"].apply(lambda x: x.lower())\n",
    "df[\"message\"]"
   ]
  },
  {
   "cell_type": "code",
   "execution_count": 79,
   "metadata": {},
   "outputs": [
    {
     "data": {
      "text/plain": [
       "0       go until jurong point  crazy   available only ...\n",
       "1                           ok lar    joking wif u oni   \n",
       "2       free entry in 2 a wkly comp to win fa cup fina...\n",
       "3       u dun say so early hor    u c already then say   \n",
       "4       nah i don t think he goes to usf  he lives aro...\n",
       "                              ...                        \n",
       "5567    this is the 2nd time we have tried 2 contact u...\n",
       "5568                 will   b going to esplanade fr home \n",
       "5569    pity    was in mood for that  so   any other s...\n",
       "5570    the guy did some bitching but i acted like i d...\n",
       "5571                           rofl  its true to its name\n",
       "Name: message, Length: 5572, dtype: object"
      ]
     },
     "execution_count": 79,
     "metadata": {},
     "output_type": "execute_result"
    }
   ],
   "source": [
    "# text preprocessing : remove non alphanumeric\n",
    "\n",
    "df[\"message\"] = df[\"message\"].apply(lambda x: re.sub(r\"[^A-Za-z0-9]\", \" \", x))\n",
    "df[\"message\"]"
   ]
  },
  {
   "cell_type": "code",
   "execution_count": 80,
   "metadata": {},
   "outputs": [
    {
     "data": {
      "text/plain": [
       "0       go until jurong point  crazy   available only ...\n",
       "1                           ok lar    joking wif u oni   \n",
       "2       free entry in 2 a wkly comp to win fa cup fina...\n",
       "3       u dun say so early hor    u c already then say   \n",
       "4       nah i don t think he goes to usf  he lives aro...\n",
       "                              ...                        \n",
       "5567    this is the 2nd time we have tried 2 contact u...\n",
       "5568                 will   b going to esplanade fr home \n",
       "5569    pity    was in mood for that  so   any other s...\n",
       "5570    the guy did some bitching but i acted like i d...\n",
       "5571                           rofl  its true to its name\n",
       "Name: message, Length: 5572, dtype: object"
      ]
     },
     "execution_count": 80,
     "metadata": {},
     "output_type": "execute_result"
    }
   ],
   "source": [
    "# text preprocessing : remove escape (backslash)\n",
    "\n",
    "df[\"message\"] = df[\"message\"].apply(lambda x: re.sub(r\"\\'s\", \" \", x))\n",
    "df[\"message\"]"
   ]
  },
  {
   "cell_type": "code",
   "execution_count": 81,
   "metadata": {},
   "outputs": [
    {
     "data": {
      "text/plain": [
       "0       go until jurong point  crazy   available only ...\n",
       "1                           ok lar    joking wif u oni   \n",
       "2       free entry in 2 a wkly comp to win fa cup fina...\n",
       "3       u dun say so early hor    u c already then say   \n",
       "4       nah i don t think he goes to usf  he lives aro...\n",
       "                              ...                        \n",
       "5567    this is the 2nd time we have tried 2 contact u...\n",
       "5568                 will   b going to esplanade fr home \n",
       "5569    pity    was in mood for that  so   any other s...\n",
       "5570    the guy did some bitching but i acted like i d...\n",
       "5571                           rofl  its true to its name\n",
       "Name: message, Length: 5572, dtype: object"
      ]
     },
     "execution_count": 81,
     "metadata": {},
     "output_type": "execute_result"
    }
   ],
   "source": [
    "# text preprocessing : remove URL\n",
    "\n",
    "df[\"message\"] = df[\"message\"].apply(lambda x: re.sub(r\"http\\S+\", \" link \", x))\n",
    "df[\"message\"]"
   ]
  },
  {
   "cell_type": "code",
   "execution_count": 82,
   "metadata": {},
   "outputs": [
    {
     "data": {
      "text/plain": [
       "0       go until jurong point  crazy   available only ...\n",
       "1                           ok lar    joking wif u oni   \n",
       "2       free entry in  a wkly comp to win fa cup final...\n",
       "3       u dun say so early hor    u c already then say   \n",
       "4       nah i don t think he goes to usf  he lives aro...\n",
       "                              ...                        \n",
       "5567    this is the 2nd time we have tried  contact u ...\n",
       "5568                 will   b going to esplanade fr home \n",
       "5569    pity    was in mood for that  so   any other s...\n",
       "5570    the guy did some bitching but i acted like i d...\n",
       "5571                           rofl  its true to its name\n",
       "Name: message, Length: 5572, dtype: object"
      ]
     },
     "execution_count": 82,
     "metadata": {},
     "output_type": "execute_result"
    }
   ],
   "source": [
    "# text preprocessing : remove numbers\n",
    "\n",
    "df[\"message\"] = df[\"message\"].apply(lambda x: re.sub(r\"\\b\\d+(?:\\.\\d+)?\\b\", \"\", x))\n",
    "df[\"message\"]"
   ]
  },
  {
   "cell_type": "code",
   "execution_count": 83,
   "metadata": {},
   "outputs": [
    {
     "data": {
      "text/plain": [
       "0       go until jurong point  crazy   available only ...\n",
       "1                           ok lar    joking wif u oni   \n",
       "2       free entry in  a wkly comp to win fa cup final...\n",
       "3       u dun say so early hor    u c already then say   \n",
       "4       nah i don t think he goes to usf  he lives aro...\n",
       "                              ...                        \n",
       "5567    this is the 2nd time we have tried  contact u ...\n",
       "5568                 will   b going to esplanade fr home \n",
       "5569    pity    was in mood for that  so   any other s...\n",
       "5570    the guy did some bitching but i acted like i d...\n",
       "5571                           rofl  its true to its name\n",
       "Name: message, Length: 5572, dtype: object"
      ]
     },
     "execution_count": 83,
     "metadata": {},
     "output_type": "execute_result"
    }
   ],
   "source": [
    "# text preprocessing : remove punctuation\n",
    "\n",
    "df[\"message\"] = df[\"message\"].apply(lambda x: re.sub(r'[^\\w\\s]', '', x))\n",
    "df[\"message\"]"
   ]
  },
  {
   "cell_type": "code",
   "execution_count": 84,
   "metadata": {},
   "outputs": [
    {
     "data": {
      "text/plain": [
       "0       go until jurong point crazy available only in ...\n",
       "1                                 ok lar joking wif u oni\n",
       "2       free entry in a wkly comp to win fa cup final ...\n",
       "3             u dun say so early hor u c already then say\n",
       "4       nah i don t think he goes to usf he lives arou...\n",
       "                              ...                        \n",
       "5567    this is the 2nd time we have tried contact u u...\n",
       "5568                    will b going to esplanade fr home\n",
       "5569    pity was in mood for that so any other suggest...\n",
       "5570    the guy did some bitching but i acted like i d...\n",
       "5571                            rofl its true to its name\n",
       "Name: message, Length: 5572, dtype: object"
      ]
     },
     "execution_count": 84,
     "metadata": {},
     "output_type": "execute_result"
    }
   ],
   "source": [
    "# text preprocessing : remove extra whitespace\n",
    "df[\"message\"] = df[\"message\"].apply(lambda x: \" \".join(x.split()))\n",
    "df[\"message\"]"
   ]
  },
  {
   "cell_type": "code",
   "execution_count": 85,
   "metadata": {},
   "outputs": [
    {
     "data": {
      "text/plain": [
       "0       go jurong point crazy available bugis n great ...\n",
       "1                                 ok lar joking wif u oni\n",
       "2       free entry wkly comp win fa cup final tkts 21s...\n",
       "3                     u dun say early hor u c already say\n",
       "4                  nah think goes usf lives around though\n",
       "                              ...                        \n",
       "5567    2nd time tried contact u u pound prize claim e...\n",
       "5568                            b going esplanade fr home\n",
       "5569                                pity mood suggestions\n",
       "5570    guy bitching acted like interested buying some...\n",
       "5571                                       rofl true name\n",
       "Name: message, Length: 5572, dtype: object"
      ]
     },
     "execution_count": 85,
     "metadata": {},
     "output_type": "execute_result"
    }
   ],
   "source": [
    "# text preprocessing : remove stopwords\n",
    "\n",
    "def remove_stopwords(text):\n",
    "    stop_words = set(stopwords.words('english'))\n",
    "    words = word_tokenize(text)\n",
    "    filtered_words = [word for word in words if word.lower() not in stop_words]\n",
    "    return ' '.join(filtered_words)\n",
    "\n",
    "df[\"message\"] = df[\"message\"].apply(remove_stopwords)\n",
    "df[\"message\"]"
   ]
  },
  {
   "cell_type": "markdown",
   "metadata": {},
   "source": [
    "# data splitting"
   ]
  },
  {
   "cell_type": "code",
   "execution_count": 86,
   "metadata": {},
   "outputs": [],
   "source": [
    "# split data to train and test\n",
    "\n",
    "x_train, x_test, y_train, y_test = train_test_split(\n",
    "    df[\"message\"],\n",
    "    df[\"label\"],\n",
    "    stratify=df[\"label\"],\n",
    "    test_size=0.2,\n",
    "    shuffle=True,\n",
    "    random_state=42\n",
    ")"
   ]
  },
  {
   "cell_type": "markdown",
   "metadata": {},
   "source": [
    "# tokenization"
   ]
  },
  {
   "cell_type": "code",
   "execution_count": 87,
   "metadata": {},
   "outputs": [],
   "source": [
    "# define tokenizer\n",
    "tokenizer = Tokenizer(num_words=100, oov_token=\"<OOV>\")\n",
    "\n",
    "# fit on texts\n",
    "tokenizer.fit_on_texts(x_train)\n",
    "tokenizer.fit_on_texts(x_test)\n",
    "\n",
    "# tokenize\n",
    "train_sequence = tokenizer.texts_to_sequences(x_train)\n",
    "test_sequence = tokenizer.texts_to_sequences(x_test)"
   ]
  },
  {
   "cell_type": "code",
   "execution_count": 88,
   "metadata": {},
   "outputs": [],
   "source": [
    "# padding\n",
    "train_padded = pad_sequences(train_sequence, maxlen=20)\n",
    "test_padded = pad_sequences(test_sequence, maxlen=20)"
   ]
  },
  {
   "cell_type": "markdown",
   "metadata": {},
   "source": [
    "# modelling"
   ]
  },
  {
   "cell_type": "code",
   "execution_count": 89,
   "metadata": {},
   "outputs": [],
   "source": [
    "# define model\n",
    "model = tf.keras.Sequential([\n",
    "    tf.keras.layers.Embedding(250, 16, input_length=20),\n",
    "    tf.keras.layers.LSTM(16),\n",
    "    tf.keras.layers.Dense(8, activation='relu'),\n",
    "    tf.keras.layers.Dense(1, activation='sigmoid')\n",
    "])\n",
    "\n",
    "# define optimizer and loss and metrics\n",
    "model.compile(\n",
    "    loss='binary_crossentropy',\n",
    "    optimizer='adam',\n",
    "    metrics=['accuracy']\n",
    ")"
   ]
  },
  {
   "cell_type": "code",
   "execution_count": 90,
   "metadata": {},
   "outputs": [],
   "source": [
    "# use callback to early stopping\n",
    "\n",
    "class myCallback(tf.keras.callbacks.Callback):\n",
    "  def on_epoch_end(self, epoch, logs={}):\n",
    "    if(logs.get('accuracy')>0.98):\n",
    "      print(\"\\nAkurasi telah mencapai > 98%!\")\n",
    "      self.model.stop_training = True\n",
    "      \n",
    "callbacks = myCallback()"
   ]
  },
  {
   "cell_type": "markdown",
   "metadata": {},
   "source": [
    "## training"
   ]
  },
  {
   "cell_type": "code",
   "execution_count": 91,
   "metadata": {},
   "outputs": [
    {
     "name": "stdout",
     "output_type": "stream",
     "text": [
      "Epoch 1/30\n",
      "140/140 [==============================] - 6s 21ms/step - loss: 0.3399 - accuracy: 0.8658 - val_loss: 0.2336 - val_accuracy: 0.8664\n",
      "Epoch 2/30\n",
      "140/140 [==============================] - 2s 17ms/step - loss: 0.1828 - accuracy: 0.9031 - val_loss: 0.1614 - val_accuracy: 0.9507\n",
      "Epoch 3/30\n",
      "140/140 [==============================] - 2s 18ms/step - loss: 0.1317 - accuracy: 0.9657 - val_loss: 0.1142 - val_accuracy: 0.9740\n",
      "Epoch 4/30\n",
      "140/140 [==============================] - 2s 17ms/step - loss: 0.1031 - accuracy: 0.9695 - val_loss: 0.1013 - val_accuracy: 0.9749\n",
      "Epoch 5/30\n",
      "140/140 [==============================] - 2s 17ms/step - loss: 0.0917 - accuracy: 0.9693 - val_loss: 0.0948 - val_accuracy: 0.9740\n",
      "Epoch 6/30\n",
      "140/140 [==============================] - 2s 17ms/step - loss: 0.0887 - accuracy: 0.9726 - val_loss: 0.0978 - val_accuracy: 0.9704\n",
      "Epoch 7/30\n",
      "140/140 [==============================] - 2s 17ms/step - loss: 0.0868 - accuracy: 0.9722 - val_loss: 0.0952 - val_accuracy: 0.9731\n",
      "Epoch 8/30\n",
      "140/140 [==============================] - 2s 17ms/step - loss: 0.0855 - accuracy: 0.9724 - val_loss: 0.0980 - val_accuracy: 0.9713\n",
      "Epoch 9/30\n",
      "140/140 [==============================] - 2s 17ms/step - loss: 0.0817 - accuracy: 0.9753 - val_loss: 0.0994 - val_accuracy: 0.9704\n",
      "Epoch 10/30\n",
      "140/140 [==============================] - 2s 17ms/step - loss: 0.0814 - accuracy: 0.9744 - val_loss: 0.0934 - val_accuracy: 0.9731\n",
      "Epoch 11/30\n",
      "140/140 [==============================] - 2s 18ms/step - loss: 0.0804 - accuracy: 0.9753 - val_loss: 0.1001 - val_accuracy: 0.9713\n",
      "Epoch 12/30\n",
      "140/140 [==============================] - 2s 17ms/step - loss: 0.0786 - accuracy: 0.9760 - val_loss: 0.0937 - val_accuracy: 0.9740\n",
      "Epoch 13/30\n",
      "140/140 [==============================] - 2s 17ms/step - loss: 0.0761 - accuracy: 0.9780 - val_loss: 0.0989 - val_accuracy: 0.9704\n",
      "Epoch 14/30\n",
      "140/140 [==============================] - 2s 17ms/step - loss: 0.0785 - accuracy: 0.9767 - val_loss: 0.0913 - val_accuracy: 0.9722\n",
      "Epoch 15/30\n",
      "140/140 [==============================] - 2s 17ms/step - loss: 0.0750 - accuracy: 0.9769 - val_loss: 0.0940 - val_accuracy: 0.9740\n",
      "Epoch 16/30\n",
      "140/140 [==============================] - 2s 17ms/step - loss: 0.0749 - accuracy: 0.9780 - val_loss: 0.0898 - val_accuracy: 0.9758\n",
      "Epoch 17/30\n",
      "140/140 [==============================] - 2s 17ms/step - loss: 0.0746 - accuracy: 0.9785 - val_loss: 0.0913 - val_accuracy: 0.9749\n",
      "Epoch 18/30\n",
      "140/140 [==============================] - 2s 17ms/step - loss: 0.0716 - accuracy: 0.9778 - val_loss: 0.0895 - val_accuracy: 0.9749\n",
      "Epoch 19/30\n",
      "140/140 [==============================] - 2s 17ms/step - loss: 0.0689 - accuracy: 0.9794 - val_loss: 0.0921 - val_accuracy: 0.9731\n",
      "Epoch 20/30\n",
      "137/140 [============================>.] - ETA: 0s - loss: 0.0676 - accuracy: 0.9806\n",
      "Akurasi telah mencapai > 98%!\n",
      "140/140 [==============================] - 2s 17ms/step - loss: 0.0673 - accuracy: 0.9805 - val_loss: 0.1033 - val_accuracy: 0.9722\n"
     ]
    }
   ],
   "source": [
    "# training\n",
    "history = model.fit(\n",
    "    train_padded,\n",
    "    y_train,\n",
    "    epochs=30,\n",
    "    validation_data=(test_padded, y_test),\n",
    "    callbacks=[callbacks]\n",
    ")"
   ]
  },
  {
   "cell_type": "markdown",
   "metadata": {},
   "source": [
    "## evaluate model"
   ]
  },
  {
   "cell_type": "code",
   "execution_count": 92,
   "metadata": {},
   "outputs": [
    {
     "data": {
      "image/png": "[encoded data removed]",
      "text/plain": [
       "<Figure size 640x480 with 1 Axes>"
      ]
     },
     "metadata": {},
     "output_type": "display_data"
    }
   ],
   "source": [
    "# Loss of Training and Testing\n",
    "\n",
    "plt.plot(history.history['loss'])\n",
    "plt.plot(history.history['val_loss'])\n",
    "plt.title('Model loss')\n",
    "plt.ylabel('Loss')\n",
    "plt.xlabel('Epoch')\n",
    "plt.legend(['Train Loss', \"Test Loss\"], loc='upper right')\n",
    "plt.show()"
   ]
  },
  {
   "cell_type": "code",
   "execution_count": 93,
   "metadata": {},
   "outputs": [
    {
     "data": {
      "image/png": "[encoded data removed]",
      "text/plain": [
       "<Figure size 640x480 with 1 Axes>"
      ]
     },
     "metadata": {},
     "output_type": "display_data"
    }
   ],
   "source": [
    "# accuracy training and testing\n",
    "\n",
    "plt.plot(history.history['accuracy'])\n",
    "plt.plot(history.history['val_accuracy'])\n",
    "plt.title('Model Accuracy')\n",
    "plt.ylabel('Accuracy')\n",
    "plt.xlabel('Epoch')\n",
    "plt.legend(['Train Acc', \"Test Acc\"], loc='lower right')\n",
    "plt.show()"
   ]
  },
  {
   "cell_type": "markdown",
   "metadata": {},
   "source": [
    "## predict new data"
   ]
  },
  {
   "cell_type": "code",
   "execution_count": 94,
   "metadata": {},
   "outputs": [
    {
     "name": "stdout",
     "output_type": "stream",
     "text": [
      "35/35 [==============================] - 1s 5ms/step\n"
     ]
    }
   ],
   "source": [
    "y_test = y_test.to_numpy().reshape(-1, 1)\n",
    "y_test_pred = np.where(model.predict(test_padded)>0.5, 1, 0)"
   ]
  },
  {
   "cell_type": "code",
   "execution_count": 95,
   "metadata": {},
   "outputs": [
    {
     "data": {
      "text/plain": [
       "0.9721973094170404"
      ]
     },
     "execution_count": 95,
     "metadata": {},
     "output_type": "execute_result"
    }
   ],
   "source": [
    "accuracy_score(y_test_pred, y_test)"
   ]
  },
  {
   "cell_type": "markdown",
   "metadata": {},
   "source": [
    "# save model"
   ]
  },
  {
   "cell_type": "code",
   "execution_count": 96,
   "metadata": {},
   "outputs": [],
   "source": [
    "# save tokenizer\n",
    "with open(\"../app/models/tokenizer.pkl\", \"wb\") as f:\n",
    "    pickle.dump(tokenizer, f)\n",
    "\n",
    "# save model\n",
    "model.save(\"../app/models/sms_spam_prediction.keras\")"
   ]
  }
 ],
 "metadata": {
  "kernelspec": {
   "display_name": ".env",
   "language": "python",
   "name": "python3"
  },
  "language_info": {
   "codemirror_mode": {
    "name": "ipython",
    "version": 3
   },
   "file_extension": ".py",
   "mimetype": "text/x-python",
   "name": "python",
   "nbconvert_exporter": "python",
   "pygments_lexer": "ipython3",
   "version": "3.9.7"
  }
 },
 "nbformat": 4,
 "nbformat_minor": 2
}
